{
 "cells": [
  {
   "cell_type": "code",
   "execution_count": 8,
   "metadata": {},
   "outputs": [],
   "source": [
    "using DSP\n",
    "using WAV\n",
    "using Plots\n",
    "using FFTW\n",
    "using Statistics"
   ]
  },
  {
   "cell_type": "code",
   "execution_count": 9,
   "metadata": {},
   "outputs": [
    {
     "data": {
      "text/plain": [
       "pre_emphasize (generic function with 2 methods)"
      ]
     },
     "metadata": {},
     "output_type": "display_data"
    }
   ],
   "source": [
    "function pre_emphasize(signal, alpha=0.95)\n",
    "    filt_function = PolynomialRatio([1.0, -alpha], [1.0])\n",
    "    return filt(filt_function, signal)\n",
    "end"
   ]
  },
  {
   "cell_type": "code",
   "execution_count": 10,
   "metadata": {},
   "outputs": [
    {
     "data": {
      "text/plain": [
       "make_parabola (generic function with 1 method)"
      ]
     },
     "metadata": {},
     "output_type": "display_data"
    }
   ],
   "source": [
    "function make_parabola(x_points, y_points)\n",
    "    # make parabola\n",
    "    A = [x_points[1]^2 x_points[1] 1; x_points[2]^2 x_points[2] 1; x_points[3]^2 x_points[3] 1] \n",
    "    y = [y_points[1]; y_points[2]; y_points[3]]\n",
    "    coeffs = A \\ y\n",
    "    a, b, c = coeffs \n",
    "    parabola(x) = a * x^2 + b * x + c\n",
    "\n",
    "    # calculate delta f\n",
    "    der_1 = (y_points[3] - y_points[1]) / (2*(x_points[2] - x_points[1]))\n",
    "    der_2 = (y_points[3] - (2*y_points[2]) + y_points[1]) / ((x_points[2] - x_points[1])^2)\n",
    "    delta = -der_1 / der_2\n",
    "\n",
    "    return parabola, delta\n",
    "end"
   ]
  },
  {
   "cell_type": "code",
   "execution_count": 11,
   "metadata": {},
   "outputs": [
    {
     "data": {
      "text/plain": [
       "find_peaks (generic function with 1 method)"
      ]
     },
     "metadata": {},
     "output_type": "display_data"
    }
   ],
   "source": [
    "function find_peaks(; x, y, interpolation::Bool=false)\n",
    "    peak_indices = []\n",
    "    peaks = []\n",
    "    current_peak = 0\n",
    "    wait = false\n",
    "    # skip = filter (i -> tube_f)\n",
    "    for i in [2:1:length(x)-1;]\n",
    "        prev_i = i-1\n",
    "        prev = y[prev_i]\n",
    "        cur = y[i]\n",
    "        next_i = i+1\n",
    "        next = y[next_i]\n",
    "        if (cur == current_peak)\n",
    "            wait = true\n",
    "        else\n",
    "            wait = false\n",
    "        end\n",
    "        prev_i -= 1\n",
    "        while (cur == prev && prev_i > 0)\n",
    "            prev = y[prev_i]\n",
    "            prev_i -= 1\n",
    "        end\n",
    "        next_i += 1\n",
    "        while (cur == next && next_i <= length(x))\n",
    "            next = y[next_i]\n",
    "            next_i += 1\n",
    "        end\n",
    "        if (cur > prev && cur > next && wait == false)\n",
    "            # println(\"Frequency: $(x[i]) Prev: $(prev), Cur: $(cur), Next: $(next))\")\n",
    "            current_peak = cur\n",
    "            peak = x[i]\n",
    "            push!(peak_indices, i)\n",
    "            if (interpolation==true)\n",
    "                parabola, delta = make_parabola([x[prev_i], x[i], x[next_i]], [prev, cur, next])\n",
    "                peak = x[i]+delta\n",
    "            end\n",
    "            push!(peaks, peak)\n",
    "        end\n",
    "    end\n",
    "return peaks, peak_indices\n",
    "end"
   ]
  },
  {
   "cell_type": "code",
   "execution_count": 12,
   "metadata": {},
   "outputs": [],
   "source": [
    "# Get the tube model frequency response\n",
    "file = open(\"demo_data/FreqResponse_aa.txt\")\n",
    "resp1 = []\n",
    "resp2 = []\n",
    "resp3 = []\n",
    "lines = readlines(file)\n",
    "for line in lines\n",
    "    row = split(line, \"\\t\")\n",
    "    parsed_row = []\n",
    "    for item in row\n",
    "        parsed = parse(Float64, item)\n",
    "        push!(parsed_row, parsed)\n",
    "    end\n",
    "    push!(resp1, parsed_row[1])\n",
    "    push!(resp2, parsed_row[2])\n",
    "    push!(resp3, parsed_row[3])\n",
    "end"
   ]
  },
  {
   "cell_type": "code",
   "execution_count": 13,
   "metadata": {},
   "outputs": [
    {
     "data": {
      "text/plain": [
       "Any[]"
      ]
     },
     "metadata": {},
     "output_type": "display_data"
    }
   ],
   "source": [
    "# LPC parameters\n",
    "window_size = 1000\n",
    "overlap = 500\n",
    "order = 46\n",
    "n = 512\n",
    "n_formants = 4\n",
    "formant_cutoff_freq = 4000\n",
    "min_amplitude = -50\n",
    "\n",
    "# Spectrogram parameters\n",
    "s_window_size = 600\n",
    "s_overlap = 300\n",
    "cutoff_freq = 5000\n",
    "\n",
    "difs = []\n",
    "avgs = []\n",
    "difs_noint = []\n",
    "avgs_noint = []"
   ]
  },
  {
   "cell_type": "code",
   "execution_count": 20,
   "metadata": {},
   "outputs": [
    {
     "data": {
      "image/png": "[encoded data removed]",
      "image/svg+xml": [
       "<?xml version=\"1.0\" encoding=\"utf-8\"?>\n",
       "<svg xmlns=\"http://www.w3.org/2000/svg\" xmlns:xlink=\"http://www.w3.org/1999/xlink\" width=\"600\" height=\"400\" viewBox=\"0 0 2400 1600\">\n",
       "<defs>\n",
       "  <clipPath id=\"clip190\">\n",
       "    <rect x=\"0\" y=\"0\" width=\"2400\" height=\"1600\"/>\n",
       "  </clipPath>\n",
       "</defs>\n",
       "<path clip-path=\"url(#clip190)\" d=\"M0 1600 L2400 1600 L2400 0 L0 0  Z\" fill=\"#ffffff\" fill-rule=\"evenodd\" fill-opacity=\"1\"/>\n",
       "<defs>\n",
       "  <clipPath id=\"clip191\">\n",
       "    <rect x=\"480\" y=\"0\" width=\"1681\" height=\"1600\"/>\n",
       "  </clipPath>\n",
       "</defs>\n",
       "<path clip-path=\"url(#clip190)\" d=\"M149.191 1486.45 L2352.76 1486.45 L2352.76 47.2441 L149.191 47.2441  Z\" fill=\"#ffffff\" fill-rule=\"evenodd\" fill-opacity=\"1\"/>\n",
       "<defs>\n",
       "  <clipPath id=\"clip192\">\n",
       "    <rect x=\"149\" y=\"47\" width=\"2205\" height=\"1440\"/>\n",
       "  </clipPath>\n",
       "</defs>\n",
       "<polyline clip-path=\"url(#clip192)\" style=\"stroke:#000000; stroke-linecap:round; stroke-linejoin:round; stroke-width:2; stroke-opacity:0.1; fill:none\" points=\"169.131,1486.45 169.131,47.2441 \"/>\n",
       "<polyline clip-path=\"url(#clip192)\" style=\"stroke:#000000; stroke-linecap:round; stroke-linejoin:round; stroke-width:2; stroke-opacity:0.1; fill:none\" points=\"593.383,1486.45 593.383,47.2441 \"/>\n",
       "<polyline clip-path=\"url(#clip192)\" style=\"stroke:#000000; stroke-linecap:round; stroke-linejoin:round; stroke-width:2; stroke-opacity:0.1; fill:none\" points=\"1017.63,1486.45 1017.63,47.2441 \"/>\n",
       "<polyline clip-path=\"url(#clip192)\" style=\"stroke:#000000; stroke-linecap:round; stroke-linejoin:round; stroke-width:2; stroke-opacity:0.1; fill:none\" points=\"1441.89,1486.45 1441.89,47.2441 \"/>\n",
       "<polyline clip-path=\"url(#clip192)\" style=\"stroke:#000000; stroke-linecap:round; stroke-linejoin:round; stroke-width:2; stroke-opacity:0.1; fill:none\" points=\"1866.14,1486.45 1866.14,47.2441 \"/>\n",
       "<polyline clip-path=\"url(#clip192)\" style=\"stroke:#000000; stroke-linecap:round; stroke-linejoin:round; stroke-width:2; stroke-opacity:0.1; fill:none\" points=\"2290.39,1486.45 2290.39,47.2441 \"/>\n",
       "<polyline clip-path=\"url(#clip192)\" style=\"stroke:#000000; stroke-linecap:round; stroke-linejoin:round; stroke-width:2; stroke-opacity:0.1; fill:none\" points=\"149.191,1227.08 2352.76,1227.08 \"/>\n",
       "<polyline clip-path=\"url(#clip192)\" style=\"stroke:#000000; stroke-linecap:round; stroke-linejoin:round; stroke-width:2; stroke-opacity:0.1; fill:none\" points=\"149.191,953.055 2352.76,953.055 \"/>\n",
       "<polyline clip-path=\"url(#clip192)\" style=\"stroke:#000000; stroke-linecap:round; stroke-linejoin:round; stroke-width:2; stroke-opacity:0.1; fill:none\" points=\"149.191,679.031 2352.76,679.031 \"/>\n",
       "<polyline clip-path=\"url(#clip192)\" style=\"stroke:#000000; stroke-linecap:round; stroke-linejoin:round; stroke-width:2; stroke-opacity:0.1; fill:none\" points=\"149.191,405.006 2352.76,405.006 \"/>\n",
       "<polyline clip-path=\"url(#clip192)\" style=\"stroke:#000000; stroke-linecap:round; stroke-linejoin:round; stroke-width:2; stroke-opacity:0.1; fill:none\" points=\"149.191,130.981 2352.76,130.981 \"/>\n",
       "<polyline clip-path=\"url(#clip190)\" style=\"stroke:#000000; stroke-linecap:round; stroke-linejoin:round; stroke-width:4; stroke-opacity:1; fill:none\" points=\"149.191,1486.45 2352.76,1486.45 \"/>\n",
       "<polyline clip-path=\"url(#clip190)\" style=\"stroke:#000000; stroke-linecap:round; stroke-linejoin:round; stroke-width:4; stroke-opacity:1; fill:none\" points=\"169.131,1486.45 169.131,1467.55 \"/>\n",
       "<polyline clip-path=\"url(#clip190)\" style=\"stroke:#000000; stroke-linecap:round; stroke-linejoin:round; stroke-width:4; stroke-opacity:1; fill:none\" points=\"593.383,1486.45 593.383,1467.55 \"/>\n",
       "<polyline clip-path=\"url(#clip190)\" style=\"stroke:#000000; stroke-linecap:round; stroke-linejoin:round; stroke-width:4; stroke-opacity:1; fill:none\" points=\"1017.63,1486.45 1017.63,1467.55 \"/>\n",
       "<polyline clip-path=\"url(#clip190)\" style=\"stroke:#000000; stroke-linecap:round; stroke-linejoin:round; stroke-width:4; stroke-opacity:1; fill:none\" points=\"1441.89,1486.45 1441.89,1467.55 \"/>\n",
       "<polyline clip-path=\"url(#clip190)\" style=\"stroke:#000000; stroke-linecap:round; stroke-linejoin:round; stroke-width:4; stroke-opacity:1; fill:none\" points=\"1866.14,1486.45 1866.14,1467.55 \"/>\n",
       "<polyline clip-path=\"url(#clip190)\" style=\"stroke:#000000; stroke-linecap:round; stroke-linejoin:round; stroke-width:4; stroke-opacity:1; fill:none\" points=\"2290.39,1486.45 2290.39,1467.55 \"/>\n",
       "<path clip-path=\"url(#clip190)\" d=\"M169.131 1517.37 Q165.52 1517.37 163.691 1520.93 Q161.885 1524.47 161.885 1531.6 Q161.885 1538.71 163.691 1542.27 Q165.52 1545.82 169.131 1545.82 Q172.765 1545.82 174.57 1542.27 Q176.399 1538.71 176.399 1531.6 Q176.399 1524.47 174.57 1520.93 Q172.765 1517.37 169.131 1517.37 M169.131 1513.66 Q174.941 1513.66 177.996 1518.27 Q181.075 1522.85 181.075 1531.6 Q181.075 1540.33 177.996 1544.94 Q174.941 1549.52 169.131 1549.52 Q163.321 1549.52 160.242 1544.94 Q157.186 1540.33 157.186 1531.6 Q157.186 1522.85 160.242 1518.27 Q163.321 1513.66 169.131 1513.66 Z\" fill=\"#000000\" fill-rule=\"nonzero\" fill-opacity=\"1\" /><path clip-path=\"url(#clip190)\" d=\"M568.07 1544.91 L575.709 1544.91 L575.709 1518.55 L567.399 1520.21 L567.399 1515.95 L575.663 1514.29 L580.339 1514.29 L580.339 1544.91 L587.978 1544.91 L587.978 1548.85 L568.07 1548.85 L568.07 1544.91 Z\" fill=\"#000000\" fill-rule=\"nonzero\" fill-opacity=\"1\" /><path clip-path=\"url(#clip190)\" d=\"M607.422 1517.37 Q603.811 1517.37 601.982 1520.93 Q600.177 1524.47 600.177 1531.6 Q600.177 1538.71 601.982 1542.27 Q603.811 1545.82 607.422 1545.82 Q611.056 1545.82 612.862 1542.27 Q614.69 1538.71 614.69 1531.6 Q614.69 1524.47 612.862 1520.93 Q611.056 1517.37 607.422 1517.37 M607.422 1513.66 Q613.232 1513.66 616.288 1518.27 Q619.366 1522.85 619.366 1531.6 Q619.366 1540.33 616.288 1544.94 Q613.232 1549.52 607.422 1549.52 Q601.612 1549.52 598.533 1544.94 Q595.478 1540.33 595.478 1531.6 Q595.478 1522.85 598.533 1518.27 Q601.612 1513.66 607.422 1513.66 Z\" fill=\"#000000\" fill-rule=\"nonzero\" fill-opacity=\"1\" /><path clip-path=\"url(#clip190)\" d=\"M996.408 1544.91 L1012.73 1544.91 L1012.73 1548.85 L990.783 1548.85 L990.783 1544.91 Q993.445 1542.16 998.028 1537.53 Q1002.63 1532.88 1003.82 1531.53 Q1006.06 1529.01 1006.94 1527.27 Q1007.84 1525.51 1007.84 1523.82 Q1007.84 1521.07 1005.9 1519.33 Q1003.98 1517.6 1000.88 1517.6 Q998.677 1517.6 996.223 1518.36 Q993.792 1519.13 991.015 1520.68 L991.015 1515.95 Q993.839 1514.82 996.292 1514.24 Q998.746 1513.66 1000.78 1513.66 Q1006.15 1513.66 1009.35 1516.35 Q1012.54 1519.03 1012.54 1523.52 Q1012.54 1525.65 1011.73 1527.57 Q1010.94 1529.47 1008.84 1532.07 Q1008.26 1532.74 1005.16 1535.95 Q1002.06 1539.15 996.408 1544.91 Z\" fill=\"#000000\" fill-rule=\"nonzero\" fill-opacity=\"1\" /><path clip-path=\"url(#clip190)\" d=\"M1032.54 1517.37 Q1028.93 1517.37 1027.1 1520.93 Q1025.3 1524.47 1025.3 1531.6 Q1025.3 1538.71 1027.1 1542.27 Q1028.93 1545.82 1032.54 1545.82 Q1036.18 1545.82 1037.98 1542.27 Q1039.81 1538.71 1039.81 1531.6 Q1039.81 1524.47 1037.98 1520.93 Q1036.18 1517.37 1032.54 1517.37 M1032.54 1513.66 Q1038.35 1513.66 1041.41 1518.27 Q1044.49 1522.85 1044.49 1531.6 Q1044.49 1540.33 1041.41 1544.94 Q1038.35 1549.52 1032.54 1549.52 Q1026.73 1549.52 1023.65 1544.94 Q1020.6 1540.33 1020.6 1531.6 Q1020.6 1522.85 1023.65 1518.27 Q1026.73 1513.66 1032.54 1513.66 Z\" fill=\"#000000\" fill-rule=\"nonzero\" fill-opacity=\"1\" /><path clip-path=\"url(#clip190)\" d=\"M1430.73 1530.21 Q1434.09 1530.93 1435.96 1533.2 Q1437.86 1535.47 1437.86 1538.8 Q1437.86 1543.92 1434.34 1546.72 Q1430.82 1549.52 1424.34 1549.52 Q1422.16 1549.52 1419.85 1549.08 Q1417.56 1548.66 1415.1 1547.81 L1415.1 1543.29 Q1417.05 1544.43 1419.36 1545.01 Q1421.68 1545.58 1424.2 1545.58 Q1428.6 1545.58 1430.89 1543.85 Q1433.21 1542.11 1433.21 1538.8 Q1433.21 1535.75 1431.05 1534.03 Q1428.92 1532.3 1425.1 1532.3 L1421.08 1532.3 L1421.08 1528.45 L1425.29 1528.45 Q1428.74 1528.45 1430.57 1527.09 Q1432.4 1525.7 1432.4 1523.11 Q1432.4 1520.45 1430.5 1519.03 Q1428.62 1517.6 1425.1 1517.6 Q1423.18 1517.6 1420.98 1518.01 Q1418.79 1518.43 1416.15 1519.31 L1416.15 1515.14 Q1418.81 1514.4 1421.12 1514.03 Q1423.46 1513.66 1425.52 1513.66 Q1430.85 1513.66 1433.95 1516.09 Q1437.05 1518.5 1437.05 1522.62 Q1437.05 1525.49 1435.41 1527.48 Q1433.76 1529.45 1430.73 1530.21 Z\" fill=\"#000000\" fill-rule=\"nonzero\" fill-opacity=\"1\" /><path clip-path=\"url(#clip190)\" d=\"M1456.72 1517.37 Q1453.11 1517.37 1451.28 1520.93 Q1449.48 1524.47 1449.48 1531.6 Q1449.48 1538.71 1451.28 1542.27 Q1453.11 1545.82 1456.72 1545.82 Q1460.36 1545.82 1462.16 1542.27 Q1463.99 1538.71 1463.99 1531.6 Q1463.99 1524.47 1462.16 1520.93 Q1460.36 1517.37 1456.72 1517.37 M1456.72 1513.66 Q1462.53 1513.66 1465.59 1518.27 Q1468.67 1522.85 1468.67 1531.6 Q1468.67 1540.33 1465.59 1544.94 Q1462.53 1549.52 1456.72 1549.52 Q1450.91 1549.52 1447.84 1544.94 Q1444.78 1540.33 1444.78 1531.6 Q1444.78 1522.85 1447.84 1518.27 Q1450.91 1513.66 1456.72 1513.66 Z\" fill=\"#000000\" fill-rule=\"nonzero\" fill-opacity=\"1\" /><path clip-path=\"url(#clip190)\" d=\"M1854.31 1518.36 L1842.5 1536.81 L1854.31 1536.81 L1854.31 1518.36 M1853.08 1514.29 L1858.96 1514.29 L1858.96 1536.81 L1863.89 1536.81 L1863.89 1540.7 L1858.96 1540.7 L1858.96 1548.85 L1854.31 1548.85 L1854.31 1540.7 L1838.71 1540.7 L1838.71 1536.19 L1853.08 1514.29 Z\" fill=\"#000000\" fill-rule=\"nonzero\" fill-opacity=\"1\" /><path clip-path=\"url(#clip190)\" d=\"M1881.62 1517.37 Q1878.01 1517.37 1876.19 1520.93 Q1874.38 1524.47 1874.38 1531.6 Q1874.38 1538.71 1876.19 1542.27 Q1878.01 1545.82 1881.62 1545.82 Q1885.26 1545.82 1887.06 1542.27 Q1888.89 1538.71 1888.89 1531.6 Q1888.89 1524.47 1887.06 1520.93 Q1885.26 1517.37 1881.62 1517.37 M1881.62 1513.66 Q1887.44 1513.66 1890.49 1518.27 Q1893.57 1522.85 1893.57 1531.6 Q1893.57 1540.33 1890.49 1544.94 Q1887.44 1549.52 1881.62 1549.52 Q1875.81 1549.52 1872.74 1544.94 Q1869.68 1540.33 1869.68 1531.6 Q1869.68 1522.85 1872.74 1518.27 Q1875.81 1513.66 1881.62 1513.66 Z\" fill=\"#000000\" fill-rule=\"nonzero\" fill-opacity=\"1\" /><path clip-path=\"url(#clip190)\" d=\"M2265.09 1514.29 L2283.45 1514.29 L2283.45 1518.22 L2269.37 1518.22 L2269.37 1526.7 Q2270.39 1526.35 2271.41 1526.19 Q2272.43 1526 2273.45 1526 Q2279.23 1526 2282.61 1529.17 Q2285.99 1532.34 2285.99 1537.76 Q2285.99 1543.34 2282.52 1546.44 Q2279.05 1549.52 2272.73 1549.52 Q2270.55 1549.52 2268.28 1549.15 Q2266.04 1548.78 2263.63 1548.04 L2263.63 1543.34 Q2265.72 1544.47 2267.94 1545.03 Q2270.16 1545.58 2272.64 1545.58 Q2276.64 1545.58 2278.98 1543.48 Q2281.32 1541.37 2281.32 1537.76 Q2281.32 1534.15 2278.98 1532.04 Q2276.64 1529.94 2272.64 1529.94 Q2270.76 1529.94 2268.89 1530.35 Q2267.03 1530.77 2265.09 1531.65 L2265.09 1514.29 Z\" fill=\"#000000\" fill-rule=\"nonzero\" fill-opacity=\"1\" /><path clip-path=\"url(#clip190)\" d=\"M2305.21 1517.37 Q2301.59 1517.37 2299.77 1520.93 Q2297.96 1524.47 2297.96 1531.6 Q2297.96 1538.71 2299.77 1542.27 Q2301.59 1545.82 2305.21 1545.82 Q2308.84 1545.82 2310.65 1542.27 Q2312.47 1538.71 2312.47 1531.6 Q2312.47 1524.47 2310.65 1520.93 Q2308.84 1517.37 2305.21 1517.37 M2305.21 1513.66 Q2311.02 1513.66 2314.07 1518.27 Q2317.15 1522.85 2317.15 1531.6 Q2317.15 1540.33 2314.07 1544.94 Q2311.02 1549.52 2305.21 1549.52 Q2299.4 1549.52 2296.32 1544.94 Q2293.26 1540.33 2293.26 1531.6 Q2293.26 1522.85 2296.32 1518.27 Q2299.4 1513.66 2305.21 1513.66 Z\" fill=\"#000000\" fill-rule=\"nonzero\" fill-opacity=\"1\" /><polyline clip-path=\"url(#clip190)\" style=\"stroke:#000000; stroke-linecap:round; stroke-linejoin:round; stroke-width:4; stroke-opacity:1; fill:none\" points=\"149.191,1486.45 149.191,47.2441 \"/>\n",
       "<polyline clip-path=\"url(#clip190)\" style=\"stroke:#000000; stroke-linecap:round; stroke-linejoin:round; stroke-width:4; stroke-opacity:1; fill:none\" points=\"149.191,1227.08 168.089,1227.08 \"/>\n",
       "<polyline clip-path=\"url(#clip190)\" style=\"stroke:#000000; stroke-linecap:round; stroke-linejoin:round; stroke-width:4; stroke-opacity:1; fill:none\" points=\"149.191,953.055 168.089,953.055 \"/>\n",
       "<polyline clip-path=\"url(#clip190)\" style=\"stroke:#000000; stroke-linecap:round; stroke-linejoin:round; stroke-width:4; stroke-opacity:1; fill:none\" points=\"149.191,679.031 168.089,679.031 \"/>\n",
       "<polyline clip-path=\"url(#clip190)\" style=\"stroke:#000000; stroke-linecap:round; stroke-linejoin:round; stroke-width:4; stroke-opacity:1; fill:none\" points=\"149.191,405.006 168.089,405.006 \"/>\n",
       "<polyline clip-path=\"url(#clip190)\" style=\"stroke:#000000; stroke-linecap:round; stroke-linejoin:round; stroke-width:4; stroke-opacity:1; fill:none\" points=\"149.191,130.981 168.089,130.981 \"/>\n",
       "<path clip-path=\"url(#clip190)\" d=\"M51.3162 1227.53 L80.992 1227.53 L80.992 1231.47 L51.3162 1231.47 L51.3162 1227.53 Z\" fill=\"#000000\" fill-rule=\"nonzero\" fill-opacity=\"1\" /><path clip-path=\"url(#clip190)\" d=\"M101.663 1225.22 Q98.515 1225.22 96.6632 1227.37 Q94.8345 1229.52 94.8345 1233.27 Q94.8345 1237 96.6632 1239.17 Q98.515 1241.33 101.663 1241.33 Q104.811 1241.33 106.64 1239.17 Q108.492 1237 108.492 1233.27 Q108.492 1229.52 106.64 1227.37 Q104.811 1225.22 101.663 1225.22 M110.946 1210.56 L110.946 1214.82 Q109.186 1213.99 107.381 1213.55 Q105.598 1213.11 103.839 1213.11 Q99.2095 1213.11 96.7558 1216.24 Q94.3252 1219.36 93.978 1225.68 Q95.3437 1223.67 97.4039 1222.6 Q99.4641 1221.51 101.941 1221.51 Q107.149 1221.51 110.158 1224.68 Q113.191 1227.83 113.191 1233.27 Q113.191 1238.6 110.043 1241.81 Q106.895 1245.03 101.663 1245.03 Q95.6678 1245.03 92.4965 1240.45 Q89.3253 1235.84 89.3253 1227.11 Q89.3253 1218.92 93.2141 1214.06 Q97.103 1209.17 103.654 1209.17 Q105.413 1209.17 107.196 1209.52 Q109.001 1209.87 110.946 1210.56 Z\" fill=\"#000000\" fill-rule=\"nonzero\" fill-opacity=\"1\" /><path clip-path=\"url(#clip190)\" d=\"M50.9921 953.507 L80.6679 953.507 L80.6679 957.442 L50.9921 957.442 L50.9921 953.507 Z\" fill=\"#000000\" fill-rule=\"nonzero\" fill-opacity=\"1\" /><path clip-path=\"url(#clip190)\" d=\"M103.608 939.849 L91.8021 958.298 L103.608 958.298 L103.608 939.849 M102.381 935.775 L108.26 935.775 L108.26 958.298 L113.191 958.298 L113.191 962.187 L108.26 962.187 L108.26 970.335 L103.608 970.335 L103.608 962.187 L88.0058 962.187 L88.0058 957.673 L102.381 935.775 Z\" fill=\"#000000\" fill-rule=\"nonzero\" fill-opacity=\"1\" /><path clip-path=\"url(#clip190)\" d=\"M53.0754 679.482 L82.7512 679.482 L82.7512 683.417 L53.0754 683.417 L53.0754 679.482 Z\" fill=\"#000000\" fill-rule=\"nonzero\" fill-opacity=\"1\" /><path clip-path=\"url(#clip190)\" d=\"M96.8715 692.376 L113.191 692.376 L113.191 696.311 L91.2465 696.311 L91.2465 692.376 Q93.9086 689.621 98.4919 684.991 Q103.098 680.339 104.279 678.996 Q106.524 676.473 107.404 674.737 Q108.307 672.977 108.307 671.288 Q108.307 668.533 106.362 666.797 Q104.441 665.061 101.339 665.061 Q99.14 665.061 96.6863 665.825 Q94.2558 666.589 91.478 668.14 L91.478 663.417 Q94.3021 662.283 96.7558 661.704 Q99.2095 661.126 101.246 661.126 Q106.617 661.126 109.811 663.811 Q113.006 666.496 113.006 670.987 Q113.006 673.116 112.196 675.038 Q111.408 676.936 109.302 679.528 Q108.723 680.2 105.621 683.417 Q102.52 686.612 96.8715 692.376 Z\" fill=\"#000000\" fill-rule=\"nonzero\" fill-opacity=\"1\" /><path clip-path=\"url(#clip190)\" d=\"M101.246 390.805 Q97.6354 390.805 95.8067 394.37 Q94.0012 397.911 94.0012 405.041 Q94.0012 412.147 95.8067 415.712 Q97.6354 419.254 101.246 419.254 Q104.881 419.254 106.686 415.712 Q108.515 412.147 108.515 405.041 Q108.515 397.911 106.686 394.37 Q104.881 390.805 101.246 390.805 M101.246 387.101 Q107.057 387.101 110.112 391.708 Q113.191 396.291 113.191 405.041 Q113.191 413.768 110.112 418.374 Q107.057 422.957 101.246 422.957 Q95.4363 422.957 92.3576 418.374 Q89.3021 413.768 89.3021 405.041 Q89.3021 396.291 92.3576 391.708 Q95.4363 387.101 101.246 387.101 Z\" fill=\"#000000\" fill-rule=\"nonzero\" fill-opacity=\"1\" /><path clip-path=\"url(#clip190)\" d=\"M96.8715 144.326 L113.191 144.326 L113.191 148.261 L91.2465 148.261 L91.2465 144.326 Q93.9086 141.572 98.4919 136.942 Q103.098 132.289 104.279 130.947 Q106.524 128.424 107.404 126.687 Q108.307 124.928 108.307 123.238 Q108.307 120.484 106.362 118.748 Q104.441 117.012 101.339 117.012 Q99.14 117.012 96.6863 117.775 Q94.2558 118.539 91.478 120.09 L91.478 115.368 Q94.3021 114.234 96.7558 113.655 Q99.2095 113.076 101.246 113.076 Q106.617 113.076 109.811 115.762 Q113.006 118.447 113.006 122.937 Q113.006 125.067 112.196 126.988 Q111.408 128.887 109.302 131.479 Q108.723 132.15 105.621 135.368 Q102.52 138.562 96.8715 144.326 Z\" fill=\"#000000\" fill-rule=\"nonzero\" fill-opacity=\"1\" /><polyline clip-path=\"url(#clip192)\" style=\"stroke:#009af9; stroke-linecap:round; stroke-linejoin:round; stroke-width:4; stroke-opacity:1; fill:none\" points=\"211.556,1445.72 253.981,87.9763 296.406,429.496 338.832,545.715 381.257,415.322 423.682,368.137 466.107,434.629 508.532,435.321 550.958,376.192 593.383,375.441 635.808,407.253 678.233,394.22 720.658,376.1 763.084,405.561 805.509,419.747 847.934,395.895 890.359,388.204 932.784,419.326 975.21,427.909 1017.63,413.834 1060.06,420.21 1102.49,437.13 1144.91,433.785 1187.34,425.284 1229.76,429.494 1272.19,428.454 1314.61,415.592 1357.04,413.514 1399.46,422.799 1441.89,415.257 1484.31,400.2 1526.74,404.568 1569.16,414.732 1611.59,407.2 1654.01,394.061 1696.44,400.681 1738.86,407.927 1781.29,403.912 1823.71,400.38 1866.14,413.762 1908.56,411.288 1950.99,396.263 1993.41,390.622 2035.84,399.6 2078.26,406.784 2120.69,406.654 2163.12,406.495 2205.54,400.603 2247.97,390.852 2290.39,395.706 \"/>\n",
       "<path clip-path=\"url(#clip190)\" d=\"M2006.52 1438.47 L2279.3 1438.47 L2279.3 1334.79 L2006.52 1334.79  Z\" fill=\"#ffffff\" fill-rule=\"evenodd\" fill-opacity=\"1\"/>\n",
       "<polyline clip-path=\"url(#clip190)\" style=\"stroke:#000000; stroke-linecap:round; stroke-linejoin:round; stroke-width:4; stroke-opacity:1; fill:none\" points=\"2006.52,1438.47 2279.3,1438.47 2279.3,1334.79 2006.52,1334.79 2006.52,1438.47 \"/>\n",
       "<polyline clip-path=\"url(#clip190)\" style=\"stroke:#009af9; stroke-linecap:round; stroke-linejoin:round; stroke-width:4; stroke-opacity:1; fill:none\" points=\"2031,1386.63 2177.91,1386.63 \"/>\n",
       "<path clip-path=\"url(#clip190)\" d=\"M2216.23 1406.32 Q2214.43 1410.95 2212.71 1412.36 Q2211 1413.78 2208.13 1413.78 L2204.73 1413.78 L2204.73 1410.21 L2207.23 1410.21 Q2208.99 1410.21 2209.96 1409.38 Q2210.93 1408.54 2212.11 1405.44 L2212.88 1403.5 L2202.39 1377.99 L2206.9 1377.99 L2215.01 1398.27 L2223.11 1377.99 L2227.62 1377.99 L2216.23 1406.32 Z\" fill=\"#000000\" fill-rule=\"nonzero\" fill-opacity=\"1\" /><path clip-path=\"url(#clip190)\" d=\"M2234.91 1399.98 L2242.55 1399.98 L2242.55 1373.61 L2234.24 1375.28 L2234.24 1371.02 L2242.5 1369.35 L2247.18 1369.35 L2247.18 1399.98 L2254.82 1399.98 L2254.82 1403.91 L2234.91 1403.91 L2234.91 1399.98 Z\" fill=\"#000000\" fill-rule=\"nonzero\" fill-opacity=\"1\" /></svg>\n"
      ],
      "text/html": [
       "<?xml version=\"1.0\" encoding=\"utf-8\"?>\n",
       "<svg xmlns=\"http://www.w3.org/2000/svg\" xmlns:xlink=\"http://www.w3.org/1999/xlink\" width=\"600\" height=\"400\" viewBox=\"0 0 2400 1600\">\n",
       "<defs>\n",
       "  <clipPath id=\"clip240\">\n",
       "    <rect x=\"0\" y=\"0\" width=\"2400\" height=\"1600\"/>\n",
       "  </clipPath>\n",
       "</defs>\n",
       "<path clip-path=\"url(#clip240)\" d=\"M0 1600 L2400 1600 L2400 0 L0 0  Z\" fill=\"#ffffff\" fill-rule=\"evenodd\" fill-opacity=\"1\"/>\n",
       "<defs>\n",
       "  <clipPath id=\"clip241\">\n",
       "    <rect x=\"480\" y=\"0\" width=\"1681\" height=\"1600\"/>\n",
       "  </clipPath>\n",
       "</defs>\n",
       "<path clip-path=\"url(#clip240)\" d=\"M149.191 1486.45 L2352.76 1486.45 L2352.76 47.2441 L149.191 47.2441  Z\" fill=\"#ffffff\" fill-rule=\"evenodd\" fill-opacity=\"1\"/>\n",
       "<defs>\n",
       "  <clipPath id=\"clip242\">\n",
       "    <rect x=\"149\" y=\"47\" width=\"2205\" height=\"1440\"/>\n",
       "  </clipPath>\n",
       "</defs>\n",
       "<polyline clip-path=\"url(#clip242)\" style=\"stroke:#000000; stroke-linecap:round; stroke-linejoin:round; stroke-width:2; stroke-opacity:0.1; fill:none\" points=\"169.131,1486.45 169.131,47.2441 \"/>\n",
       "<polyline clip-path=\"url(#clip242)\" style=\"stroke:#000000; stroke-linecap:round; stroke-linejoin:round; stroke-width:2; stroke-opacity:0.1; fill:none\" points=\"593.383,1486.45 593.383,47.2441 \"/>\n",
       "<polyline clip-path=\"url(#clip242)\" style=\"stroke:#000000; stroke-linecap:round; stroke-linejoin:round; stroke-width:2; stroke-opacity:0.1; fill:none\" points=\"1017.63,1486.45 1017.63,47.2441 \"/>\n",
       "<polyline clip-path=\"url(#clip242)\" style=\"stroke:#000000; stroke-linecap:round; stroke-linejoin:round; stroke-width:2; stroke-opacity:0.1; fill:none\" points=\"1441.89,1486.45 1441.89,47.2441 \"/>\n",
       "<polyline clip-path=\"url(#clip242)\" style=\"stroke:#000000; stroke-linecap:round; stroke-linejoin:round; stroke-width:2; stroke-opacity:0.1; fill:none\" points=\"1866.14,1486.45 1866.14,47.2441 \"/>\n",
       "<polyline clip-path=\"url(#clip242)\" style=\"stroke:#000000; stroke-linecap:round; stroke-linejoin:round; stroke-width:2; stroke-opacity:0.1; fill:none\" points=\"2290.39,1486.45 2290.39,47.2441 \"/>\n",
       "<polyline clip-path=\"url(#clip242)\" style=\"stroke:#000000; stroke-linecap:round; stroke-linejoin:round; stroke-width:2; stroke-opacity:0.1; fill:none\" points=\"149.191,1227.08 2352.76,1227.08 \"/>\n",
       "<polyline clip-path=\"url(#clip242)\" style=\"stroke:#000000; stroke-linecap:round; stroke-linejoin:round; stroke-width:2; stroke-opacity:0.1; fill:none\" points=\"149.191,953.055 2352.76,953.055 \"/>\n",
       "<polyline clip-path=\"url(#clip242)\" style=\"stroke:#000000; stroke-linecap:round; stroke-linejoin:round; stroke-width:2; stroke-opacity:0.1; fill:none\" points=\"149.191,679.031 2352.76,679.031 \"/>\n",
       "<polyline clip-path=\"url(#clip242)\" style=\"stroke:#000000; stroke-linecap:round; stroke-linejoin:round; stroke-width:2; stroke-opacity:0.1; fill:none\" points=\"149.191,405.006 2352.76,405.006 \"/>\n",
       "<polyline clip-path=\"url(#clip242)\" style=\"stroke:#000000; stroke-linecap:round; stroke-linejoin:round; stroke-width:2; stroke-opacity:0.1; fill:none\" points=\"149.191,130.981 2352.76,130.981 \"/>\n",
       "<polyline clip-path=\"url(#clip240)\" style=\"stroke:#000000; stroke-linecap:round; stroke-linejoin:round; stroke-width:4; stroke-opacity:1; fill:none\" points=\"149.191,1486.45 2352.76,1486.45 \"/>\n",
       "<polyline clip-path=\"url(#clip240)\" style=\"stroke:#000000; stroke-linecap:round; stroke-linejoin:round; stroke-width:4; stroke-opacity:1; fill:none\" points=\"169.131,1486.45 169.131,1467.55 \"/>\n",
       "<polyline clip-path=\"url(#clip240)\" style=\"stroke:#000000; stroke-linecap:round; stroke-linejoin:round; stroke-width:4; stroke-opacity:1; fill:none\" points=\"593.383,1486.45 593.383,1467.55 \"/>\n",
       "<polyline clip-path=\"url(#clip240)\" style=\"stroke:#000000; stroke-linecap:round; stroke-linejoin:round; stroke-width:4; stroke-opacity:1; fill:none\" points=\"1017.63,1486.45 1017.63,1467.55 \"/>\n",
       "<polyline clip-path=\"url(#clip240)\" style=\"stroke:#000000; stroke-linecap:round; stroke-linejoin:round; stroke-width:4; stroke-opacity:1; fill:none\" points=\"1441.89,1486.45 1441.89,1467.55 \"/>\n",
       "<polyline clip-path=\"url(#clip240)\" style=\"stroke:#000000; stroke-linecap:round; stroke-linejoin:round; stroke-width:4; stroke-opacity:1; fill:none\" points=\"1866.14,1486.45 1866.14,1467.55 \"/>\n",
       "<polyline clip-path=\"url(#clip240)\" style=\"stroke:#000000; stroke-linecap:round; stroke-linejoin:round; stroke-width:4; stroke-opacity:1; fill:none\" points=\"2290.39,1486.45 2290.39,1467.55 \"/>\n",
       "<path clip-path=\"url(#clip240)\" d=\"M169.131 1517.37 Q165.52 1517.37 163.691 1520.93 Q161.885 1524.47 161.885 1531.6 Q161.885 1538.71 163.691 1542.27 Q165.52 1545.82 169.131 1545.82 Q172.765 1545.82 174.57 1542.27 Q176.399 1538.71 176.399 1531.6 Q176.399 1524.47 174.57 1520.93 Q172.765 1517.37 169.131 1517.37 M169.131 1513.66 Q174.941 1513.66 177.996 1518.27 Q181.075 1522.85 181.075 1531.6 Q181.075 1540.33 177.996 1544.94 Q174.941 1549.52 169.131 1549.52 Q163.321 1549.52 160.242 1544.94 Q157.186 1540.33 157.186 1531.6 Q157.186 1522.85 160.242 1518.27 Q163.321 1513.66 169.131 1513.66 Z\" fill=\"#000000\" fill-rule=\"nonzero\" fill-opacity=\"1\" /><path clip-path=\"url(#clip240)\" d=\"M568.07 1544.91 L575.709 1544.91 L575.709 1518.55 L567.399 1520.21 L567.399 1515.95 L575.663 1514.29 L580.339 1514.29 L580.339 1544.91 L587.978 1544.91 L587.978 1548.85 L568.07 1548.85 L568.07 1544.91 Z\" fill=\"#000000\" fill-rule=\"nonzero\" fill-opacity=\"1\" /><path clip-path=\"url(#clip240)\" d=\"M607.422 1517.37 Q603.811 1517.37 601.982 1520.93 Q600.177 1524.47 600.177 1531.6 Q600.177 1538.71 601.982 1542.27 Q603.811 1545.82 607.422 1545.82 Q611.056 1545.82 612.862 1542.27 Q614.69 1538.71 614.69 1531.6 Q614.69 1524.47 612.862 1520.93 Q611.056 1517.37 607.422 1517.37 M607.422 1513.66 Q613.232 1513.66 616.288 1518.27 Q619.366 1522.85 619.366 1531.6 Q619.366 1540.33 616.288 1544.94 Q613.232 1549.52 607.422 1549.52 Q601.612 1549.52 598.533 1544.94 Q595.478 1540.33 595.478 1531.6 Q595.478 1522.85 598.533 1518.27 Q601.612 1513.66 607.422 1513.66 Z\" fill=\"#000000\" fill-rule=\"nonzero\" fill-opacity=\"1\" /><path clip-path=\"url(#clip240)\" d=\"M996.408 1544.91 L1012.73 1544.91 L1012.73 1548.85 L990.783 1548.85 L990.783 1544.91 Q993.445 1542.16 998.028 1537.53 Q1002.63 1532.88 1003.82 1531.53 Q1006.06 1529.01 1006.94 1527.27 Q1007.84 1525.51 1007.84 1523.82 Q1007.84 1521.07 1005.9 1519.33 Q1003.98 1517.6 1000.88 1517.6 Q998.677 1517.6 996.223 1518.36 Q993.792 1519.13 991.015 1520.68 L991.015 1515.95 Q993.839 1514.82 996.292 1514.24 Q998.746 1513.66 1000.78 1513.66 Q1006.15 1513.66 1009.35 1516.35 Q1012.54 1519.03 1012.54 1523.52 Q1012.54 1525.65 1011.73 1527.57 Q1010.94 1529.47 1008.84 1532.07 Q1008.26 1532.74 1005.16 1535.95 Q1002.06 1539.15 996.408 1544.91 Z\" fill=\"#000000\" fill-rule=\"nonzero\" fill-opacity=\"1\" /><path clip-path=\"url(#clip240)\" d=\"M1032.54 1517.37 Q1028.93 1517.37 1027.1 1520.93 Q1025.3 1524.47 1025.3 1531.6 Q1025.3 1538.71 1027.1 1542.27 Q1028.93 1545.82 1032.54 1545.82 Q1036.18 1545.82 1037.98 1542.27 Q1039.81 1538.71 1039.81 1531.6 Q1039.81 1524.47 1037.98 1520.93 Q1036.18 1517.37 1032.54 1517.37 M1032.54 1513.66 Q1038.35 1513.66 1041.41 1518.27 Q1044.49 1522.85 1044.49 1531.6 Q1044.49 1540.33 1041.41 1544.94 Q1038.35 1549.52 1032.54 1549.52 Q1026.73 1549.52 1023.65 1544.94 Q1020.6 1540.33 1020.6 1531.6 Q1020.6 1522.85 1023.65 1518.27 Q1026.73 1513.66 1032.54 1513.66 Z\" fill=\"#000000\" fill-rule=\"nonzero\" fill-opacity=\"1\" /><path clip-path=\"url(#clip240)\" d=\"M1430.73 1530.21 Q1434.09 1530.93 1435.96 1533.2 Q1437.86 1535.47 1437.86 1538.8 Q1437.86 1543.92 1434.34 1546.72 Q1430.82 1549.52 1424.34 1549.52 Q1422.16 1549.52 1419.85 1549.08 Q1417.56 1548.66 1415.1 1547.81 L1415.1 1543.29 Q1417.05 1544.43 1419.36 1545.01 Q1421.68 1545.58 1424.2 1545.58 Q1428.6 1545.58 1430.89 1543.85 Q1433.21 1542.11 1433.21 1538.8 Q1433.21 1535.75 1431.05 1534.03 Q1428.92 1532.3 1425.1 1532.3 L1421.08 1532.3 L1421.08 1528.45 L1425.29 1528.45 Q1428.74 1528.45 1430.57 1527.09 Q1432.4 1525.7 1432.4 1523.11 Q1432.4 1520.45 1430.5 1519.03 Q1428.62 1517.6 1425.1 1517.6 Q1423.18 1517.6 1420.98 1518.01 Q1418.79 1518.43 1416.15 1519.31 L1416.15 1515.14 Q1418.81 1514.4 1421.12 1514.03 Q1423.46 1513.66 1425.52 1513.66 Q1430.85 1513.66 1433.95 1516.09 Q1437.05 1518.5 1437.05 1522.62 Q1437.05 1525.49 1435.41 1527.48 Q1433.76 1529.45 1430.73 1530.21 Z\" fill=\"#000000\" fill-rule=\"nonzero\" fill-opacity=\"1\" /><path clip-path=\"url(#clip240)\" d=\"M1456.72 1517.37 Q1453.11 1517.37 1451.28 1520.93 Q1449.48 1524.47 1449.48 1531.6 Q1449.48 1538.71 1451.28 1542.27 Q1453.11 1545.82 1456.72 1545.82 Q1460.36 1545.82 1462.16 1542.27 Q1463.99 1538.71 1463.99 1531.6 Q1463.99 1524.47 1462.16 1520.93 Q1460.36 1517.37 1456.72 1517.37 M1456.72 1513.66 Q1462.53 1513.66 1465.59 1518.27 Q1468.67 1522.85 1468.67 1531.6 Q1468.67 1540.33 1465.59 1544.94 Q1462.53 1549.52 1456.72 1549.52 Q1450.91 1549.52 1447.84 1544.94 Q1444.78 1540.33 1444.78 1531.6 Q1444.78 1522.85 1447.84 1518.27 Q1450.91 1513.66 1456.72 1513.66 Z\" fill=\"#000000\" fill-rule=\"nonzero\" fill-opacity=\"1\" /><path clip-path=\"url(#clip240)\" d=\"M1854.31 1518.36 L1842.5 1536.81 L1854.31 1536.81 L1854.31 1518.36 M1853.08 1514.29 L1858.96 1514.29 L1858.96 1536.81 L1863.89 1536.81 L1863.89 1540.7 L1858.96 1540.7 L1858.96 1548.85 L1854.31 1548.85 L1854.31 1540.7 L1838.71 1540.7 L1838.71 1536.19 L1853.08 1514.29 Z\" fill=\"#000000\" fill-rule=\"nonzero\" fill-opacity=\"1\" /><path clip-path=\"url(#clip240)\" d=\"M1881.62 1517.37 Q1878.01 1517.37 1876.19 1520.93 Q1874.38 1524.47 1874.38 1531.6 Q1874.38 1538.71 1876.19 1542.27 Q1878.01 1545.82 1881.62 1545.82 Q1885.26 1545.82 1887.06 1542.27 Q1888.89 1538.71 1888.89 1531.6 Q1888.89 1524.47 1887.06 1520.93 Q1885.26 1517.37 1881.62 1517.37 M1881.62 1513.66 Q1887.44 1513.66 1890.49 1518.27 Q1893.57 1522.85 1893.57 1531.6 Q1893.57 1540.33 1890.49 1544.94 Q1887.44 1549.52 1881.62 1549.52 Q1875.81 1549.52 1872.74 1544.94 Q1869.68 1540.33 1869.68 1531.6 Q1869.68 1522.85 1872.74 1518.27 Q1875.81 1513.66 1881.62 1513.66 Z\" fill=\"#000000\" fill-rule=\"nonzero\" fill-opacity=\"1\" /><path clip-path=\"url(#clip240)\" d=\"M2265.09 1514.29 L2283.45 1514.29 L2283.45 1518.22 L2269.37 1518.22 L2269.37 1526.7 Q2270.39 1526.35 2271.41 1526.19 Q2272.43 1526 2273.45 1526 Q2279.23 1526 2282.61 1529.17 Q2285.99 1532.34 2285.99 1537.76 Q2285.99 1543.34 2282.52 1546.44 Q2279.05 1549.52 2272.73 1549.52 Q2270.55 1549.52 2268.28 1549.15 Q2266.04 1548.78 2263.63 1548.04 L2263.63 1543.34 Q2265.72 1544.47 2267.94 1545.03 Q2270.16 1545.58 2272.64 1545.58 Q2276.64 1545.58 2278.98 1543.48 Q2281.32 1541.37 2281.32 1537.76 Q2281.32 1534.15 2278.98 1532.04 Q2276.64 1529.94 2272.64 1529.94 Q2270.76 1529.94 2268.89 1530.35 Q2267.03 1530.77 2265.09 1531.65 L2265.09 1514.29 Z\" fill=\"#000000\" fill-rule=\"nonzero\" fill-opacity=\"1\" /><path clip-path=\"url(#clip240)\" d=\"M2305.21 1517.37 Q2301.59 1517.37 2299.77 1520.93 Q2297.96 1524.47 2297.96 1531.6 Q2297.96 1538.71 2299.77 1542.27 Q2301.59 1545.82 2305.21 1545.82 Q2308.84 1545.82 2310.65 1542.27 Q2312.47 1538.71 2312.47 1531.6 Q2312.47 1524.47 2310.65 1520.93 Q2308.84 1517.37 2305.21 1517.37 M2305.21 1513.66 Q2311.02 1513.66 2314.07 1518.27 Q2317.15 1522.85 2317.15 1531.6 Q2317.15 1540.33 2314.07 1544.94 Q2311.02 1549.52 2305.21 1549.52 Q2299.4 1549.52 2296.32 1544.94 Q2293.26 1540.33 2293.26 1531.6 Q2293.26 1522.85 2296.32 1518.27 Q2299.4 1513.66 2305.21 1513.66 Z\" fill=\"#000000\" fill-rule=\"nonzero\" fill-opacity=\"1\" /><polyline clip-path=\"url(#clip240)\" style=\"stroke:#000000; stroke-linecap:round; stroke-linejoin:round; stroke-width:4; stroke-opacity:1; fill:none\" points=\"149.191,1486.45 149.191,47.2441 \"/>\n",
       "<polyline clip-path=\"url(#clip240)\" style=\"stroke:#000000; stroke-linecap:round; stroke-linejoin:round; stroke-width:4; stroke-opacity:1; fill:none\" points=\"149.191,1227.08 168.089,1227.08 \"/>\n",
       "<polyline clip-path=\"url(#clip240)\" style=\"stroke:#000000; stroke-linecap:round; stroke-linejoin:round; stroke-width:4; stroke-opacity:1; fill:none\" points=\"149.191,953.055 168.089,953.055 \"/>\n",
       "<polyline clip-path=\"url(#clip240)\" style=\"stroke:#000000; stroke-linecap:round; stroke-linejoin:round; stroke-width:4; stroke-opacity:1; fill:none\" points=\"149.191,679.031 168.089,679.031 \"/>\n",
       "<polyline clip-path=\"url(#clip240)\" style=\"stroke:#000000; stroke-linecap:round; stroke-linejoin:round; stroke-width:4; stroke-opacity:1; fill:none\" points=\"149.191,405.006 168.089,405.006 \"/>\n",
       "<polyline clip-path=\"url(#clip240)\" style=\"stroke:#000000; stroke-linecap:round; stroke-linejoin:round; stroke-width:4; stroke-opacity:1; fill:none\" points=\"149.191,130.981 168.089,130.981 \"/>\n",
       "<path clip-path=\"url(#clip240)\" d=\"M51.3162 1227.53 L80.992 1227.53 L80.992 1231.47 L51.3162 1231.47 L51.3162 1227.53 Z\" fill=\"#000000\" fill-rule=\"nonzero\" fill-opacity=\"1\" /><path clip-path=\"url(#clip240)\" d=\"M101.663 1225.22 Q98.515 1225.22 96.6632 1227.37 Q94.8345 1229.52 94.8345 1233.27 Q94.8345 1237 96.6632 1239.17 Q98.515 1241.33 101.663 1241.33 Q104.811 1241.33 106.64 1239.17 Q108.492 1237 108.492 1233.27 Q108.492 1229.52 106.64 1227.37 Q104.811 1225.22 101.663 1225.22 M110.946 1210.56 L110.946 1214.82 Q109.186 1213.99 107.381 1213.55 Q105.598 1213.11 103.839 1213.11 Q99.2095 1213.11 96.7558 1216.24 Q94.3252 1219.36 93.978 1225.68 Q95.3437 1223.67 97.4039 1222.6 Q99.4641 1221.51 101.941 1221.51 Q107.149 1221.51 110.158 1224.68 Q113.191 1227.83 113.191 1233.27 Q113.191 1238.6 110.043 1241.81 Q106.895 1245.03 101.663 1245.03 Q95.6678 1245.03 92.4965 1240.45 Q89.3253 1235.84 89.3253 1227.11 Q89.3253 1218.92 93.2141 1214.06 Q97.103 1209.17 103.654 1209.17 Q105.413 1209.17 107.196 1209.52 Q109.001 1209.87 110.946 1210.56 Z\" fill=\"#000000\" fill-rule=\"nonzero\" fill-opacity=\"1\" /><path clip-path=\"url(#clip240)\" d=\"M50.9921 953.507 L80.6679 953.507 L80.6679 957.442 L50.9921 957.442 L50.9921 953.507 Z\" fill=\"#000000\" fill-rule=\"nonzero\" fill-opacity=\"1\" /><path clip-path=\"url(#clip240)\" d=\"M103.608 939.849 L91.8021 958.298 L103.608 958.298 L103.608 939.849 M102.381 935.775 L108.26 935.775 L108.26 958.298 L113.191 958.298 L113.191 962.187 L108.26 962.187 L108.26 970.335 L103.608 970.335 L103.608 962.187 L88.0058 962.187 L88.0058 957.673 L102.381 935.775 Z\" fill=\"#000000\" fill-rule=\"nonzero\" fill-opacity=\"1\" /><path clip-path=\"url(#clip240)\" d=\"M53.0754 679.482 L82.7512 679.482 L82.7512 683.417 L53.0754 683.417 L53.0754 679.482 Z\" fill=\"#000000\" fill-rule=\"nonzero\" fill-opacity=\"1\" /><path clip-path=\"url(#clip240)\" d=\"M96.8715 692.376 L113.191 692.376 L113.191 696.311 L91.2465 696.311 L91.2465 692.376 Q93.9086 689.621 98.4919 684.991 Q103.098 680.339 104.279 678.996 Q106.524 676.473 107.404 674.737 Q108.307 672.977 108.307 671.288 Q108.307 668.533 106.362 666.797 Q104.441 665.061 101.339 665.061 Q99.14 665.061 96.6863 665.825 Q94.2558 666.589 91.478 668.14 L91.478 663.417 Q94.3021 662.283 96.7558 661.704 Q99.2095 661.126 101.246 661.126 Q106.617 661.126 109.811 663.811 Q113.006 666.496 113.006 670.987 Q113.006 673.116 112.196 675.038 Q111.408 676.936 109.302 679.528 Q108.723 680.2 105.621 683.417 Q102.52 686.612 96.8715 692.376 Z\" fill=\"#000000\" fill-rule=\"nonzero\" fill-opacity=\"1\" /><path clip-path=\"url(#clip240)\" d=\"M101.246 390.805 Q97.6354 390.805 95.8067 394.37 Q94.0012 397.911 94.0012 405.041 Q94.0012 412.147 95.8067 415.712 Q97.6354 419.254 101.246 419.254 Q104.881 419.254 106.686 415.712 Q108.515 412.147 108.515 405.041 Q108.515 397.911 106.686 394.37 Q104.881 390.805 101.246 390.805 M101.246 387.101 Q107.057 387.101 110.112 391.708 Q113.191 396.291 113.191 405.041 Q113.191 413.768 110.112 418.374 Q107.057 422.957 101.246 422.957 Q95.4363 422.957 92.3576 418.374 Q89.3021 413.768 89.3021 405.041 Q89.3021 396.291 92.3576 391.708 Q95.4363 387.101 101.246 387.101 Z\" fill=\"#000000\" fill-rule=\"nonzero\" fill-opacity=\"1\" /><path clip-path=\"url(#clip240)\" d=\"M96.8715 144.326 L113.191 144.326 L113.191 148.261 L91.2465 148.261 L91.2465 144.326 Q93.9086 141.572 98.4919 136.942 Q103.098 132.289 104.279 130.947 Q106.524 128.424 107.404 126.687 Q108.307 124.928 108.307 123.238 Q108.307 120.484 106.362 118.748 Q104.441 117.012 101.339 117.012 Q99.14 117.012 96.6863 117.775 Q94.2558 118.539 91.478 120.09 L91.478 115.368 Q94.3021 114.234 96.7558 113.655 Q99.2095 113.076 101.246 113.076 Q106.617 113.076 109.811 115.762 Q113.006 118.447 113.006 122.937 Q113.006 125.067 112.196 126.988 Q111.408 128.887 109.302 131.479 Q108.723 132.15 105.621 135.368 Q102.52 138.562 96.8715 144.326 Z\" fill=\"#000000\" fill-rule=\"nonzero\" fill-opacity=\"1\" /><polyline clip-path=\"url(#clip242)\" style=\"stroke:#009af9; stroke-linecap:round; stroke-linejoin:round; stroke-width:4; stroke-opacity:1; fill:none\" points=\"211.556,1445.72 253.981,87.9763 296.406,429.496 338.832,545.715 381.257,415.322 423.682,368.137 466.107,434.629 508.532,435.321 550.958,376.192 593.383,375.441 635.808,407.253 678.233,394.22 720.658,376.1 763.084,405.561 805.509,419.747 847.934,395.895 890.359,388.204 932.784,419.326 975.21,427.909 1017.63,413.834 1060.06,420.21 1102.49,437.13 1144.91,433.785 1187.34,425.284 1229.76,429.494 1272.19,428.454 1314.61,415.592 1357.04,413.514 1399.46,422.799 1441.89,415.257 1484.31,400.2 1526.74,404.568 1569.16,414.732 1611.59,407.2 1654.01,394.061 1696.44,400.681 1738.86,407.927 1781.29,403.912 1823.71,400.38 1866.14,413.762 1908.56,411.288 1950.99,396.263 1993.41,390.622 2035.84,399.6 2078.26,406.784 2120.69,406.654 2163.12,406.495 2205.54,400.603 2247.97,390.852 2290.39,395.706 \"/>\n",
       "<path clip-path=\"url(#clip240)\" d=\"M2006.52 1438.47 L2279.3 1438.47 L2279.3 1334.79 L2006.52 1334.79  Z\" fill=\"#ffffff\" fill-rule=\"evenodd\" fill-opacity=\"1\"/>\n",
       "<polyline clip-path=\"url(#clip240)\" style=\"stroke:#000000; stroke-linecap:round; stroke-linejoin:round; stroke-width:4; stroke-opacity:1; fill:none\" points=\"2006.52,1438.47 2279.3,1438.47 2279.3,1334.79 2006.52,1334.79 2006.52,1438.47 \"/>\n",
       "<polyline clip-path=\"url(#clip240)\" style=\"stroke:#009af9; stroke-linecap:round; stroke-linejoin:round; stroke-width:4; stroke-opacity:1; fill:none\" points=\"2031,1386.63 2177.91,1386.63 \"/>\n",
       "<path clip-path=\"url(#clip240)\" d=\"M2216.23 1406.32 Q2214.43 1410.95 2212.71 1412.36 Q2211 1413.78 2208.13 1413.78 L2204.73 1413.78 L2204.73 1410.21 L2207.23 1410.21 Q2208.99 1410.21 2209.96 1409.38 Q2210.93 1408.54 2212.11 1405.44 L2212.88 1403.5 L2202.39 1377.99 L2206.9 1377.99 L2215.01 1398.27 L2223.11 1377.99 L2227.62 1377.99 L2216.23 1406.32 Z\" fill=\"#000000\" fill-rule=\"nonzero\" fill-opacity=\"1\" /><path clip-path=\"url(#clip240)\" d=\"M2234.91 1399.98 L2242.55 1399.98 L2242.55 1373.61 L2234.24 1375.28 L2234.24 1371.02 L2242.5 1369.35 L2247.18 1369.35 L2247.18 1399.98 L2254.82 1399.98 L2254.82 1403.91 L2234.91 1403.91 L2234.91 1399.98 Z\" fill=\"#000000\" fill-rule=\"nonzero\" fill-opacity=\"1\" /></svg>\n"
      ]
     },
     "metadata": {},
     "output_type": "display_data"
    }
   ],
   "source": [
    "signal, fs, b, opt = wavread(\"demo_data/aa_audio/audio_lpc_aa_fo100.wav\")\n",
    "signal = signal[1:end]\n",
    "signal1 = pre_emphasize(signal)\n",
    "signal2 = pre_emphasize(signal1)\n",
    "\n",
    "spectrum = abs2.(fft(signal2))\n",
    "\n",
    "log_spectrum = log.(spectrum .+ 1e-10)\n",
    "\n",
    "cepstrum = real(ifft(log_spectrum))\n",
    "\n",
    "plot(cepstrum[1:50])\n"
   ]
  },
  {
   "cell_type": "code",
   "execution_count": 15,
   "metadata": {},
   "outputs": [],
   "source": [
    "# a, e = lpc(signal2, order)\n",
    "# a = vcat(1.0, a)\n",
    "# filt_func = PolynomialRatio([1.0], a)\n",
    "# f = [0:(fs/2)/n:fs/2;]\n",
    "# resp = freqz(filt_func, f, fs)\n",
    "# resp = 20*log10.(abs.(resp))\n",
    "\n",
    "# model_peaks, _ = find_peaks(x=resp1, y=resp2, interpolation=false)\n",
    "# lpc_peaks, _ = find_peaks(x=f, y=resp, interpolation=true)"
   ]
  }
 ],
 "metadata": {
  "kernelspec": {
   "display_name": "Julia 1.9.3",
   "language": "julia",
   "name": "julia-1.9"
  },
  "language_info": {
   "file_extension": ".jl",
   "mimetype": "application/julia",
   "name": "julia",
   "version": "1.9.3"
  }
 },
 "nbformat": 4,
 "nbformat_minor": 2
}
