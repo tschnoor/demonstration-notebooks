{
 "cells": [
  {
   "cell_type": "markdown",
   "metadata": {},
   "source": [
    "# REpresentation of the first formant in speech recognition and in models of the auditory periphery\n",
    "## Dennis H. Klatt\n",
    "### 1986, Units and their representation in speech recognition (proceedings)"
   ]
  },
  {
   "cell_type": "markdown",
   "metadata": {},
   "source": [
    "### One-liner\n",
    "The frequency and amplitude of formants (i.e., vocal tract resonances) are not easy to measure as F0 varies, although the human auditory system isn't bothered too much by this variation."
   ]
  },
  {
   "cell_type": "markdown",
   "metadata": {},
   "source": [
    "### Defining Terms\n",
    "**all-pole model** - \\\n",
    "... \\\n",
    "**all-pole synthesizer** - \\\n",
    "... \\\n"
   ]
  },
  {
   "cell_type": "markdown",
   "metadata": {},
   "source": [
    "### Notes\n"
   ]
  },
  {
   "cell_type": "markdown",
   "metadata": {},
   "source": [
    "### Author Recommendations"
   ]
  },
  {
   "cell_type": "markdown",
   "metadata": {},
   "source": [
    "### Demonstration\n",
    "The idea here is to visualize spectra from a number of synthetic vowels with increasing F0s, just like Klatt did. I'll be using TubeTalker for synthesis here. \\\n",
    "This is a work in progress..."
   ]
  },
  {
   "cell_type": "code",
   "execution_count": null,
   "metadata": {},
   "outputs": [],
   "source": []
  }
 ],
 "metadata": {
  "kernelspec": {
   "display_name": "Julia 1.9.3",
   "language": "julia",
   "name": "julia-1.9"
  },
  "language_info": {
   "file_extension": ".jl",
   "mimetype": "application/julia",
   "name": "julia",
   "version": "1.9.3"
  }
 },
 "nbformat": 4,
 "nbformat_minor": 2
}
