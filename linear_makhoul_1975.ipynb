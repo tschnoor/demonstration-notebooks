{
 "cells": [
  {
   "cell_type": "markdown",
   "metadata": {},
   "source": [
    "# Linear Prediction: A Tutorial Review\n",
    "### John Makhoul\n"
   ]
  },
  {
   "cell_type": "markdown",
   "metadata": {},
   "source": [
    "I think this demonstration will go through the steps of LPC analysis \\\n",
    "https://www.mathworks.com/help/signal/ug/formant-estimation-with-lpc-coefficients.html"
   ]
  },
  {
   "cell_type": "markdown",
   "metadata": {},
   "source": [
    "Here is an overview of the steps we will follow:\n",
    "1. Window the signal\n",
    "2. Apply pre-emphasis\n",
    "3. Compute coefficients (autocorrelation)\n",
    "4. Compute frequency response\n"
   ]
  },
  {
   "cell_type": "code",
   "execution_count": 9,
   "metadata": {},
   "outputs": [],
   "source": [
    "using DSP\n",
    "using WAV"
   ]
  },
  {
   "cell_type": "code",
   "execution_count": 10,
   "metadata": {},
   "outputs": [
    {
     "data": {
      "text/plain": [
       "100"
      ]
     },
     "metadata": {},
     "output_type": "display_data"
    }
   ],
   "source": [
    "# I will set all parameters in this cell\n",
    "window_size = 400\n",
    "overlap = 100\n",
    "order = 10"
   ]
  },
  {
   "cell_type": "code",
   "execution_count": 11,
   "metadata": {},
   "outputs": [
    {
     "data": {
      "text/plain": [
       "([0.0; -3.051850947599719e-5; … ; 0.00012207403790398877; 0.0;;], 44100.0f0, 0x0010, WAVChunk[WAVChunk(Symbol(\"fmt \"), UInt8[0x10, 0x00, 0x00, 0x00, 0x01, 0x00, 0x01, 0x00, 0x44, 0xac, 0x00, 0x00, 0x88, 0x58, 0x01, 0x00, 0x02, 0x00, 0x10, 0x00])])"
      ]
     },
     "metadata": {},
     "output_type": "display_data"
    }
   ],
   "source": [
    "# Load the file\n",
    "signal, fs, b, opt = wavread(\"demo_data/aa_audio/audio_lpc_aa_fo100.wav\")"
   ]
  },
  {
   "cell_type": "code",
   "execution_count": 12,
   "metadata": {},
   "outputs": [
    {
     "data": {
      "text/plain": [
       "hanning (generic function with 1 method)"
      ]
     },
     "metadata": {},
     "output_type": "display_data"
    }
   ],
   "source": [
    "# Here is the same function for Hanning windows that I used in the spectrogram code\n",
    "function hanning(size)\n",
    "    # where size refers to the window length\n",
    "    return 0.5 * (1 .- cos.(2π * (0:size-1) ./ (size-1)))\n",
    "end"
   ]
  },
  {
   "cell_type": "code",
   "execution_count": 13,
   "metadata": {},
   "outputs": [],
   "source": [
    "# Window the signal\n",
    "num_windows = div(length(signal) - window_size, window_size - overlap) + 1\n",
    "windows = []\n",
    "\n",
    "for i in 1:num_windows\n",
    "    start_idx = (i - 1) * (window_size - overlap) + 1\n",
    "    end_idx = start_idx + window_size - 1\n",
    "    window = signal[start_idx:end_idx]\n",
    "    windowed_signal = window .* hanning(window_size)\n",
    "    push!(windows, windowed_signal)\n",
    "end"
   ]
  },
  {
   "cell_type": "code",
   "execution_count": null,
   "metadata": {},
   "outputs": [],
   "source": [
    "# Fuction for performing autocorrelation\n",
    "# Autocorrelation is basically a mathematical way of looking for repeating patterns in the signal\n",
    "# The function returns an array of autocorrelation values of length = order\n",
    "function autocorrelation(signal, p_order)\n",
    "    N = length(signal)\n",
    "    r = zeros(Float64, p_order + 1)\n",
    "    for k in 0:p_order # for every lag in order\n",
    "        r[k + 1] = sum(signal[1:N - k] .* signal[1 + k:N]) # sum the product of two different sections of the signal\n",
    "    end\n",
    "    return r\n",
    "end"
   ]
  },
  {
   "cell_type": "code",
   "execution_count": null,
   "metadata": {},
   "outputs": [],
   "source": [
    "# Compute coefficients\n"
   ]
  },
  {
   "cell_type": "code",
   "execution_count": 15,
   "metadata": {},
   "outputs": [
    {
     "name": "stdout",
     "output_type": "stream",
     "text": [
      "(400,)\n",
      "(400,)\n",
      "(400,)\n",
      "(400,)\n",
      "(400,)\n",
      "(400,)\n",
      "(400,)\n",
      "(400,)\n",
      "(400,)\n",
      "(400,)\n",
      "(400,)\n",
      "(400,)\n",
      "(400,)\n",
      "(400,)\n",
      "(400,)\n",
      "(400,)\n",
      "(400,)\n",
      "(400,)\n",
      "(400,)\n",
      "(400,)\n",
      "(400,)\n",
      "(400,)\n",
      "(400,)\n",
      "(400,)\n",
      "(400,)\n",
      "(400,)\n",
      "(400,)\n",
      "(400,)\n",
      "(400,)\n",
      "(400,)\n",
      "(400,)\n",
      "(400,)\n",
      "(400,)\n",
      "(400,)\n",
      "(400,)\n",
      "(400,)\n",
      "(400,)\n",
      "(400,)\n",
      "(400,)\n",
      "(400,)\n",
      "(400,)\n",
      "(400,)\n",
      "(400,)\n",
      "(400,)\n",
      "(400,)\n",
      "(400,)\n",
      "(400,)\n",
      "(400,)\n",
      "(400,)\n",
      "(400,)\n",
      "(400,)\n",
      "(400,)\n",
      "(400,)\n",
      "(400,)\n",
      "(400,)\n",
      "(400,)\n",
      "(400,)\n",
      "(400,)\n",
      "(400,)\n",
      "(400,)\n",
      "(400,)\n",
      "(400,)\n",
      "(400,)\n",
      "(400,)\n",
      "(400,)\n",
      "(400,)\n",
      "(400,)\n",
      "(400,)\n",
      "(400,)\n",
      "(400,)\n",
      "(400,)\n",
      "(400,)\n",
      "(400,)\n"
     ]
    }
   ],
   "source": [
    "# Test\n",
    "for window in windows\n",
    "    println(size(window))\n",
    "end"
   ]
  },
  {
   "cell_type": "code",
   "execution_count": 2,
   "metadata": {},
   "outputs": [
    {
     "name": "stdout",
     "output_type": "stream",
     "text": [
      "0.12961584265307471\n",
      "0.005478239782184709\n",
      "0.008566082989195072\n",
      "0.010616548926610347\n",
      "0.016931233465600406\n"
     ]
    }
   ],
   "source": [
    "using Statistics\n",
    "\n",
    "x1 = [6.525, 6.485, 6.543, 6.713, 6.671, 6.800, 6.824, 6.650, 6.693, 6.450]\n",
    "x2 = [0.762, 0.760, 0.748, 0.756, 0.754, 0.762, 0.761, 0.747, 0.759, 0.758]\n",
    "x3 = [0.581, 0.577, 0.559, 0.572, 0.569, 0.581, 0.579, 0.557, 0.576, 0.575]\n",
    "x4 = [0.803, 0.796, 0.775, 0.784, 0.804, 0.804, 0.808, 0.787, 0.801, 0.794]\n",
    "x5 = [0.644, 0.633, 0.600, 0.615, 0.647, 0.646, 0.653, 0.619, 0.642, 0.631]\n",
    "\n",
    "s1 = std(x1)\n",
    "s2 = std(x2)\n",
    "s3 = std(x3)\n",
    "s4 = std(x4)\n",
    "s5 = std(x5)\n",
    "\n",
    "println(s1)\n",
    "println(s2)\n",
    "println(s3)\n",
    "println(s4)\n",
    "println(s5)"
   ]
  },
  {
   "cell_type": "code",
   "execution_count": null,
   "metadata": {},
   "outputs": [],
   "source": []
  }
 ],
 "metadata": {
  "kernelspec": {
   "display_name": "Julia 1.11.0",
   "language": "julia",
   "name": "julia-1.11"
  },
  "language_info": {
   "file_extension": ".jl",
   "mimetype": "application/julia",
   "name": "julia",
   "version": "1.11.0"
  }
 },
 "nbformat": 4,
 "nbformat_minor": 2
}
