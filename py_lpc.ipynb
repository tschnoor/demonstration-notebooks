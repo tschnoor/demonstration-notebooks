{
 "cells": [
  {
   "cell_type": "code",
   "execution_count": null,
   "metadata": {},
   "outputs": [
    {
     "ename": "UFuncTypeError",
     "evalue": "Cannot cast ufunc 'divide' output from dtype('O') to dtype('complex128') with casting rule 'same_kind'",
     "output_type": "error",
     "traceback": [
      "\u001b[1;31m---------------------------------------------------------------------------\u001b[0m",
      "\u001b[1;31mUFuncTypeError\u001b[0m                            Traceback (most recent call last)",
      "Cell \u001b[1;32mIn[5], line 13\u001b[0m\n\u001b[0;32m     10\u001b[0m lpc_coeffs \u001b[38;5;241m=\u001b[39m librosa\u001b[38;5;241m.\u001b[39mlpc(y, order\u001b[38;5;241m=\u001b[39m\u001b[38;5;241m24\u001b[39m)\n\u001b[0;32m     12\u001b[0m \u001b[38;5;66;03m# Calculate frequency response\u001b[39;00m\n\u001b[1;32m---> 13\u001b[0m w, h \u001b[38;5;241m=\u001b[39m \u001b[43msignal\u001b[49m\u001b[38;5;241;43m.\u001b[39;49m\u001b[43mfreqz\u001b[49m\u001b[43m(\u001b[49m\u001b[38;5;241;43m1\u001b[39;49m\u001b[43m,\u001b[49m\u001b[43m \u001b[49m\u001b[43m[\u001b[49m\u001b[38;5;241;43m1.0\u001b[39;49m\u001b[43m]\u001b[49m\u001b[38;5;241;43m.\u001b[39;49m\u001b[43mextend\u001b[49m\u001b[43m(\u001b[49m\u001b[43mlpc_coeffs\u001b[49m\u001b[43m)\u001b[49m\u001b[43m)\u001b[49m\n\u001b[0;32m     15\u001b[0m \u001b[38;5;66;03m# Plot magnitude response\u001b[39;00m\n\u001b[0;32m     16\u001b[0m plt\u001b[38;5;241m.\u001b[39mplot(w \u001b[38;5;241m/\u001b[39m np\u001b[38;5;241m.\u001b[39mpi, \u001b[38;5;241m20\u001b[39m \u001b[38;5;241m*\u001b[39m np\u001b[38;5;241m.\u001b[39mlog10(np\u001b[38;5;241m.\u001b[39mabs(h)))\n",
      "File \u001b[1;32mc:\\Users\\schno\\AppData\\Local\\Programs\\Python\\Python38\\lib\\site-packages\\scipy\\signal\\_filter_design.py:461\u001b[0m, in \u001b[0;36mfreqz\u001b[1;34m(***failed resolving arguments***)\u001b[0m\n\u001b[0;32m    459\u001b[0m     fft_func \u001b[38;5;241m=\u001b[39m sp_fft\u001b[38;5;241m.\u001b[39mfft\n\u001b[0;32m    460\u001b[0m h \u001b[38;5;241m=\u001b[39m fft_func(b, n\u001b[38;5;241m=\u001b[39mn_fft, axis\u001b[38;5;241m=\u001b[39m\u001b[38;5;241m0\u001b[39m)[:N]\n\u001b[1;32m--> 461\u001b[0m h \u001b[38;5;241m/\u001b[39m\u001b[38;5;241m=\u001b[39m a\n\u001b[0;32m    462\u001b[0m \u001b[38;5;28;01mif\u001b[39;00m fft_func \u001b[38;5;129;01mis\u001b[39;00m sp_fft\u001b[38;5;241m.\u001b[39mrfft \u001b[38;5;129;01mand\u001b[39;00m whole:\n\u001b[0;32m    463\u001b[0m     \u001b[38;5;66;03m# exclude DC and maybe Nyquist (no need to use axis_reverse\u001b[39;00m\n\u001b[0;32m    464\u001b[0m     \u001b[38;5;66;03m# here because we can build reversal with the truncation)\u001b[39;00m\n\u001b[0;32m    465\u001b[0m     stop \u001b[38;5;241m=\u001b[39m \u001b[38;5;241m-\u001b[39m\u001b[38;5;241m1\u001b[39m \u001b[38;5;28;01mif\u001b[39;00m n_fft \u001b[38;5;241m%\u001b[39m \u001b[38;5;241m2\u001b[39m \u001b[38;5;241m==\u001b[39m \u001b[38;5;241m1\u001b[39m \u001b[38;5;28;01melse\u001b[39;00m \u001b[38;5;241m-\u001b[39m\u001b[38;5;241m2\u001b[39m\n",
      "\u001b[1;31mUFuncTypeError\u001b[0m: Cannot cast ufunc 'divide' output from dtype('O') to dtype('complex128') with casting rule 'same_kind'"
     ]
    }
   ],
   "source": [
    "import numpy as np\n",
    "import scipy.signal as signal\n",
    "import matplotlib.pyplot as plt\n",
    "import librosa\n",
    "\n",
    "y, sr = librosa.load(\"demo_data/aa_audio/audio_lpc_aa_fo160.wav\")\n",
    "\n",
    "# Example LPC coefficients\n",
    "# lpc_coeffs = [1, -0.5, 0.2] \n",
    "lpc_coeffs = librosa.lpc(y, order=24)\n",
    "\n",
    "# Calculate frequency response\n",
    "w, h = signal.freqz(1, lpc_coeffs)\n",
    "\n",
    "# Plot magnitude response\n",
    "plt.plot(w / np.pi, 20 * np.log10(np.abs(h)))\n",
    "plt.xlabel('Normalized Frequency (x$\\pi$ rad/sample)')\n",
    "plt.ylabel('Magnitude (dB)')\n",
    "plt.title('LPC Frequency Response')\n",
    "plt.show()"
   ]
  }
 ],
 "metadata": {
  "kernelspec": {
   "display_name": "Python 3",
   "language": "python",
   "name": "python3"
  },
  "language_info": {
   "codemirror_mode": {
    "name": "ipython",
    "version": 3
   },
   "file_extension": ".py",
   "mimetype": "text/x-python",
   "name": "python",
   "nbconvert_exporter": "python",
   "pygments_lexer": "ipython3",
   "version": "3.8.0"
  }
 },
 "nbformat": 4,
 "nbformat_minor": 2
}
