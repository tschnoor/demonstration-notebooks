{
 "cells": [
  {
   "cell_type": "markdown",
   "metadata": {},
   "source": [
    "# Formants are easy to measure; resonances, not so much: Lessons from Klatt (1986)\n",
    "### D. H. Whalen, Wei-Rong Chen, Christine H. Shadle, Sean A. Fulop\n",
    "#### August 2022 (JASA)"
   ]
  },
  {
   "cell_type": "markdown",
   "metadata": {},
   "source": [
    "### One-liner\n",
    "..."
   ]
  },
  {
   "cell_type": "markdown",
   "metadata": {},
   "source": [
    "### Defining Terms\n",
    "**formant** - \n",
    "local maxima in the wideband sound spectrum \\\n",
    "**vocal tract resonance** - \n",
    "... \\\n",
    "**wideband spectrogram** - \n",
    "... \\\n",
    "**narrowband spectrogram** - \n",
    "... \\\n",
    "**reassigned spectrogram** - \n",
    "... \\"
   ]
  },
  {
   "cell_type": "markdown",
   "metadata": {},
   "source": [
    "### Notes\n",
    "\n",
    "#### Author Recommendations\n",
    "- acknowledge limitations of current analyses regarding influence of F0 and limits of granularity\n",
    "- ..."
   ]
  }
 ],
 "metadata": {
  "kernelspec": {
   "display_name": "Julia 1.9.3",
   "language": "julia",
   "name": "julia-1.9"
  },
  "language_info": {
   "file_extension": ".jl",
   "mimetype": "application/julia",
   "name": "julia",
   "version": "1.9.3"
  }
 },
 "nbformat": 4,
 "nbformat_minor": 2
}
